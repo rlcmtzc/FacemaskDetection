{
 "cells": [
  {
   "cell_type": "markdown",
   "metadata": {
    "id": "wHBQcQzjD6HJ"
   },
   "source": [
    "### Connect google drive"
   ]
  },
  {
   "cell_type": "code",
   "execution_count": null,
   "metadata": {
    "colab": {
     "base_uri": "https://localhost:8080/"
    },
    "executionInfo": {
     "elapsed": 1201,
     "status": "ok",
     "timestamp": 1607764921436,
     "user": {
      "displayName": "Moritz Erlacher",
      "photoUrl": "",
      "userId": "01353649986777097947"
     },
     "user_tz": -60
    },
    "id": "bwp6NIrsZZFP",
    "outputId": "d08524dd-0884-4213-8781-39b52fc84ef8"
   },
   "outputs": [],
   "source": [
    "# Check if NVIDIA GPU is enabled\n",
    "!nvidia-smi"
   ]
  },
  {
   "cell_type": "code",
   "execution_count": null,
   "metadata": {
    "colab": {
     "base_uri": "https://localhost:8080/"
    },
    "executionInfo": {
     "elapsed": 20096,
     "status": "ok",
     "timestamp": 1607764942770,
     "user": {
      "displayName": "Moritz Erlacher",
      "photoUrl": "",
      "userId": "01353649986777097947"
     },
     "user_tz": -60
    },
    "id": "9e9ZW3sqMEPO",
    "outputId": "96a433c6-d93a-4080-df3f-0760e6907a7b"
   },
   "outputs": [],
   "source": [
    "from google.colab import drive\n",
    "drive.mount('/content/gdrive')\n",
    "!ln -s /content/gdrive/My\\ Drive/ /mydrive\n",
    "!ls /mydrive"
   ]
  },
  {
   "cell_type": "markdown",
   "metadata": {
    "id": "t7utW4in4azV"
   },
   "source": [
    "### Clone, configure & compile Darknet\n",
    "\n"
   ]
  },
  {
   "cell_type": "code",
   "execution_count": null,
   "metadata": {
    "colab": {
     "base_uri": "https://localhost:8080/"
    },
    "executionInfo": {
     "elapsed": 3794,
     "status": "ok",
     "timestamp": 1607764949233,
     "user": {
      "displayName": "Moritz Erlacher",
      "photoUrl": "",
      "userId": "01353649986777097947"
     },
     "user_tz": -60
    },
    "id": "e03U7Zi-qMr2",
    "outputId": "0e8436b6-6bb3-4d55-e21e-505a9dd5d38b"
   },
   "outputs": [],
   "source": [
    "# Clone\n",
    "!git clone https://github.com/AlexeyAB/darknet"
   ]
  },
  {
   "cell_type": "code",
   "execution_count": null,
   "metadata": {
    "colab": {
     "base_uri": "https://localhost:8080/"
    },
    "executionInfo": {
     "elapsed": 1940,
     "status": "ok",
     "timestamp": 1607764949234,
     "user": {
      "displayName": "Moritz Erlacher",
      "photoUrl": "",
      "userId": "01353649986777097947"
     },
     "user_tz": -60
    },
    "id": "7hzfEWSuONhz",
    "outputId": "5e111547-c75e-49a6-b4fc-1b03d520995f"
   },
   "outputs": [],
   "source": [
    "# Configure\n",
    "%cd darknet\n",
    "!sed -i 's/OPENCV=0/OPENCV=1/' Makefile\n",
    "!sed -i 's/GPU=0/GPU=1/' Makefile\n",
    "!sed -i 's/CUDNN=0/CUDNN=1/' Makefile"
   ]
  },
  {
   "cell_type": "code",
   "execution_count": null,
   "metadata": {
    "colab": {
     "base_uri": "https://localhost:8080/"
    },
    "executionInfo": {
     "elapsed": 72334,
     "status": "ok",
     "timestamp": 1607765022658,
     "user": {
      "displayName": "Moritz Erlacher",
      "photoUrl": "",
      "userId": "01353649986777097947"
     },
     "user_tz": -60
    },
    "id": "EBBokOq5OOA5",
    "outputId": "0b840880-4e4e-4532-b837-2094447d468b"
   },
   "outputs": [],
   "source": [
    "# Compile, Warnings are fine\n",
    "!make"
   ]
  },
  {
   "cell_type": "markdown",
   "metadata": {
    "id": "gAOLtA_qI9vF"
   },
   "source": [
    "### Configure yolov3.cfg file\n",
    "\r",
    "change `max_batches` and `classes` acordingly.\n"
   ]
  },
  {
   "cell_type": "code",
   "execution_count": null,
   "metadata": {
    "id": "s-RpscgU853t"
   },
   "outputs": [],
   "source": [
    "# Make a copy of yolov3.cfg\n",
    "!cp cfg/yolov3.cfg cfg/yolov3_training.cfg"
   ]
  },
  {
   "cell_type": "code",
   "execution_count": null,
   "metadata": {
    "id": "5ZgVQRop_vwR"
   },
   "outputs": [],
   "source": [
    "\n",
    "!sed -i 's/batch=1/batch=64/' cfg/yolov3_training.cfg\n",
    "!sed -i 's/subdivisions=1/subdivisions=16/' cfg/yolov3_training.cfg\n",
    "!sed -i 's/max_batches = 500200/max_batches = 6000/' cfg/yolov3_training.cfg\n",
    "!sed -i '610 s@classes=80@classes=3@' cfg/yolov3_training.cfg\n",
    "!sed -i '696 s@classes=80@classes=3@' cfg/yolov3_training.cfg\n",
    "!sed -i '783 s@classes=80@classes=3@' cfg/yolov3_training.cfg\n",
    "!sed -i '603 s@filters=255@filters=24@' cfg/yolov3_training.cfg\n",
    "!sed -i '689 s@filters=255@filters=24@' cfg/yolov3_training.cfg\n",
    "!sed -i '776 s@filters=255@filters=24@' cfg/yolov3_training.cfg"
   ]
  },
  {
   "cell_type": "markdown",
   "metadata": {
    "id": "88p9BIjkPTRv"
   },
   "source": [
    "### Create .names and .data files"
   ]
  },
  {
   "cell_type": "code",
   "execution_count": null,
   "metadata": {
    "id": "7AIBw_psIclz"
   },
   "outputs": [],
   "source": [
    "!echo -e 'Without Mask\\nWith Mask\\nMask worn incorrect' > data/obj.names\n",
    "!echo -e 'classes= 3\\ntrain  = data/train.txt\\nvalid  = data/test.txt\\nnames = data/obj.names\\nbackup = /mydrive/yolov3' > data/obj.data"
   ]
  },
  {
   "cell_type": "markdown",
   "metadata": {
    "id": "dqFFqbUJMtN-"
   },
   "source": [
    "### Save yolov3_training.cfg and obj.names files in Google drive"
   ]
  },
  {
   "cell_type": "code",
   "execution_count": null,
   "metadata": {
    "id": "67o96gV7L0Uv"
   },
   "outputs": [],
   "source": [
    "!cp cfg/yolov3_training.cfg /mydrive/yolov3/yolov3_testing.cfg\n",
    "!cp data/obj.names /mydrive/yolov3/classes.txt"
   ]
  },
  {
   "cell_type": "markdown",
   "metadata": {
    "id": "9RbVKJjoncW2"
   },
   "source": [
    "### Create a folder and unzip image train dataset"
   ]
  },
  {
   "cell_type": "code",
   "execution_count": null,
   "metadata": {
    "id": "eZlkzFMW7I_N"
   },
   "outputs": [],
   "source": [
    "!mkdir data/obj\n",
    "!unzip /mydrive/yolov3/images_train.zip -d data/obj"
   ]
  },
  {
   "cell_type": "markdown",
   "metadata": {
    "id": "ogBdNwRaZ50U"
   },
   "source": [
    "### Create train.txt file"
   ]
  },
  {
   "cell_type": "code",
   "execution_count": null,
   "metadata": {
    "id": "DGUyXxeYX0IP"
   },
   "outputs": [],
   "source": [
    "import glob\n",
    "import random\n",
    "images_list = glob.glob(\"data/obj/test/*.png\")\n",
    "\n",
    "# Uncomment to get random train/test split (Only use if no retraining/evaluation ect.)\n",
    "# k = int(len(images_list) * 0.8)\n",
    "# print(len(images_list))\n",
    "# train = random.sample(images_list, k=k)\n",
    "# print(len(train))\n",
    "# test = list(set(images_list) - set(train))\n",
    "# print( len(test))\n",
    "\n",
    "# with open(\"data/train.txt\", \"w\") as f:\n",
    "#     f.write(\"\\n\".join(train))\n",
    "# with open(\"data/test.txt\", \"w\") as f:\n",
    "#     f.write(\"\\n\".join(test))\n",
    "\n",
    "with open(\"data/train.txt\", \"w\") as f:\n",
    "     f.write(\"\\n\".join(images_list))"
   ]
  },
  {
   "cell_type": "markdown",
   "metadata": {
    "id": "084L-LLPqxQe"
   },
   "source": [
    "### Download pre-trained weights for the convolutional layers file\r\n",
    "Only needed when training without previous training."
   ]
  },
  {
   "cell_type": "code",
   "execution_count": null,
   "metadata": {
    "colab": {
     "base_uri": "https://localhost:8080/"
    },
    "executionInfo": {
     "elapsed": 39657,
     "status": "ok",
     "timestamp": 1607765294702,
     "user": {
      "displayName": "Moritz Erlacher",
      "photoUrl": "",
      "userId": "01353649986777097947"
     },
     "user_tz": -60
    },
    "id": "jhb5nZvsQ_96",
    "outputId": "a6f60394-855c-4915-ea1f-f60d4e6739c9"
   },
   "outputs": [],
   "source": [
    "!wget https://pjreddie.com/media/files/darknet53.conv.74"
   ]
  },
  {
   "cell_type": "markdown",
   "metadata": {
    "id": "CeSiuLrXoAjc"
   },
   "source": [
    "### Start training"
   ]
  },
  {
   "cell_type": "code",
   "execution_count": null,
   "metadata": {
    "id": "_ylb8rytwA6b"
   },
   "outputs": [],
   "source": [
    "!./darknet detector train data/obj.data cfg/yolov3_training.cfg darknet53.conv.74 -dont_show"
   ]
  },
  {
   "cell_type": "markdown",
   "metadata": {},
   "source": [
    "### Continue Training"
   ]
  },
  {
   "cell_type": "code",
   "execution_count": null,
   "metadata": {},
   "outputs": [],
   "source": [
    "!./darknet detector train data/obj.data cfg/yolov3_training.cfg /mydrive/yolov3/yolov3_training_last.weights -dont_show"
   ]
  }
 ],
 "metadata": {
  "accelerator": "GPU",
  "colab": {
   "collapsed_sections": [],
   "name": "Train_YoloV3_Multiple.ipynb",
   "provenance": [],
   "toc_visible": true
  },
  "kernelspec": {
   "display_name": "Python 3",
   "language": "python",
   "name": "python3"
  },
  "language_info": {
   "codemirror_mode": {
    "name": "ipython",
    "version": 3
   },
   "file_extension": ".py",
   "mimetype": "text/x-python",
   "name": "python",
   "nbconvert_exporter": "python",
   "pygments_lexer": "ipython3",
   "version": "3.9.0"
  }
 },
 "nbformat": 4,
 "nbformat_minor": 4
}
