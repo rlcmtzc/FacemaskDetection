{
 "cells": [
  {
   "cell_type": "markdown",
   "metadata": {
    "id": "GIfDLwgT3GnW"
   },
   "source": [
    "## Connect Google Drive and Initialize Notebook\r\n",
    "\r\n"
   ]
  },
  {
   "cell_type": "code",
   "execution_count": null,
   "metadata": {
    "colab": {
     "base_uri": "https://localhost:8080/"
    },
    "executionInfo": {
     "elapsed": 804,
     "status": "ok",
     "timestamp": 1610703274046,
     "user": {
      "displayName": "Moritz Erlacher",
      "photoUrl": "",
      "userId": "04640922176656094176"
     },
     "user_tz": -60
    },
    "id": "Jd6tQ3zX3Bvo",
    "outputId": "16b67cc8-394c-41cd-8f9f-286be5c52e57"
   },
   "outputs": [],
   "source": [
    "# Check if NVIDIA GPU is enabled\r\n",
    "!nvidia-smi"
   ]
  },
  {
   "cell_type": "code",
   "execution_count": null,
   "metadata": {
    "colab": {
     "base_uri": "https://localhost:8080/"
    },
    "executionInfo": {
     "elapsed": 19681,
     "status": "ok",
     "timestamp": 1610703292950,
     "user": {
      "displayName": "Moritz Erlacher",
      "photoUrl": "",
      "userId": "04640922176656094176"
     },
     "user_tz": -60
    },
    "id": "0Wz8KSPt3Jn0",
    "outputId": "cc8febac-0813-44c6-98c0-803337d3583e"
   },
   "outputs": [],
   "source": [
    "from google.colab import drive\r\n",
    "drive.mount('/content/gdrive')\r\n",
    "!ln -s /content/gdrive/My\\ Drive/ /mydrive\r\n",
    "!ls /mydrive"
   ]
  },
  {
   "cell_type": "code",
   "execution_count": null,
   "metadata": {
    "colab": {
     "base_uri": "https://localhost:8080/"
    },
    "executionInfo": {
     "elapsed": 1868,
     "status": "ok",
     "timestamp": 1610703294971,
     "user": {
      "displayName": "Moritz Erlacher",
      "photoUrl": "",
      "userId": "04640922176656094176"
     },
     "user_tz": -60
    },
    "id": "quu3fb8W3MM-",
    "outputId": "3a766c6e-f76b-4015-c1d7-c062c13ec900"
   },
   "outputs": [],
   "source": [
    "%cd /content\r\n",
    "repo_url = https://github.com/rlcmtzc/FacemaskDetection.gitt'\r\n",
    "!git clone {repo_url}"
   ]
  },
  {
   "cell_type": "code",
   "execution_count": null,
   "metadata": {
    "colab": {
     "base_uri": "https://localhost:8080/"
    },
    "executionInfo": {
     "elapsed": 6717,
     "status": "ok",
     "timestamp": 1610707219026,
     "user": {
      "displayName": "Moritz Erlacher",
      "photoUrl": "",
      "userId": "04640922176656094176"
     },
     "user_tz": -60
    },
    "id": "4IeLRmFC3kq5",
    "outputId": "dff3dd40-9b18-4d35-b726-9fee57f678ff"
   },
   "outputs": [],
   "source": [
    "%cd /content\r\n",
    "!mkdirFacemaskDetectionn/data/\r\n",
    "!mkdiFacemaskDetectionon/data/original_dat\n",
    "# Change Name of Dataset zip accordinglya/\r\n",
    "!unzip /mydrive/rcnn/archive.zip FacemaskDetectionion/data/original_data"
   ]
  },
  {
   "cell_type": "code",
   "execution_count": null,
   "metadata": {
    "id": "YJhvXcVDUXjj"
   },
   "outputs": [],
   "source": []
  },
  {
   "cell_type": "markdown",
   "metadata": {
    "id": "ZiXEDamYsm-x"
   },
   "source": [
    "### Setupt.\r\n",
    "Chnage Requirements, train.py, split_dataset.py, engine.py and Dataset.py to the files in /scripts/kaggleScripts"
   ]
  },
  {
   "cell_type": "code",
   "execution_count": null,
   "metadata": {
    "colab": {
     "base_uri": "https://localhost:8080/",
     "height": 1000
    },
    "executionInfo": {
     "elapsed": 167438,
     "status": "ok",
     "timestamp": 1610703577624,
     "user": {
      "displayName": "Moritz Erlacher",
      "photoUrl": "",
      "userId": "04640922176656094176"
     },
     "user_tz": -60
    },
    "id": "d2YJRoT93xNm",
    "outputId": "8da5ab6e-00bf-4157-d2f2-48de7beea099"
   },
   "outputs": [],
   "source": [
    "!pip install -r /content/FacemaskDetection/requirements.txt\r\n",
    "#!python /contentFacemaskDetectionn/setup.py"
   ]
  },
  {
   "cell_type": "markdown",
   "metadata": {
    "id": "-1oHl03Es-0W"
   },
   "source": [
    "## Setup Training"
   ]
  },
  {
   "cell_type": "code",
   "execution_count": null,
   "metadata": {
    "id": "9-bdemVa4V0P"
   },
   "outputs": [],
   "source": [
    "#!mkdir /content/data/test/\r\n",
    "#!mkdir /content/data/train/#\r\n",
    "\r\n",
    "#!cp -r /content/data/images/ /content/data/test/\r\n",
    "#!cp -r /content/data/images/ /content/data/train/\r\n",
    "\r\n",
    "#!cp -r /content/data/test_annotations /content/data/test/annotations\r\n",
    "#!cp -r /content/data/train_annotations /content/data/train/annotations"
   ]
  },
  {
   "cell_type": "code",
   "execution_count": null,
   "metadata": {
    "colab": {
     "base_uri": "https://localhost:8080/"
    },
    "executionInfo": {
     "elapsed": 14584,
     "status": "ok",
     "timestamp": 1610707749920,
     "user": {
      "displayName": "Moritz Erlacher",
      "photoUrl": "",
      "userId": "04640922176656094176"
     },
     "user_tz": -60
    },
    "id": "Ced1nLaxONUQ",
    "outputId": "5fd1417a-22d7-4929-fc46-9259533334d7"
   },
   "outputs": [],
   "source": [
    "!python /content/FacemaskDetection/utilities/data_utils/split_dataset.py"
   ]
  },
  {
   "cell_type": "markdown",
   "metadata": {
    "id": "ZPQ5mimTtCgc"
   },
   "source": [
    "## Training"
   ]
  },
  {
   "cell_type": "code",
   "execution_count": null,
   "metadata": {
    "colab": {
     "base_uri": "https://localhost:8080/"
    },
    "id": "P738BjHZ9AsR",
    "outputId": "ff8093e8-4a42-432e-be7c-9d935959f362"
   },
   "outputs": [],
   "source": [
    "!python /content/FacemaskDetection/train.py"
   ]
  },
  {
   "cell_type": "markdown",
   "metadata": {
    "id": "AsHdJto7tFTL"
   },
   "source": [
    "## Evaluation"
   ]
  },
  {
   "cell_type": "code",
   "execution_count": null,
   "metadata": {
    "colab": {
     "base_uri": "https://localhost:8080/"
    },
    "executionInfo": {
     "elapsed": 41475,
     "status": "ok",
     "timestamp": 1610706965492,
     "user": {
      "displayName": "Moritz Erlacher",
      "photoUrl": "",
      "userId": "04640922176656094176"
     },
     "user_tz": -60
    },
    "id": "i25pQSqZaXIo",
    "outputId": "797ba923-374f-4088-80c3-6fb857c17acb"
   },
   "outputs": [],
   "source": [
    "\n",
    "!python /contentFacemaskDetectionn/test.py"
   ]
  },
  {
   "cell_type": "code",
   "execution_count": null,
   "metadata": {
    "colab": {
     "base_uri": "https://localhost:8080/"
    },
    "executionInfo": {
     "elapsed": 1738,
     "status": "ok",
     "timestamp": 1610707029364,
     "user": {
      "displayName": "Moritz Erlacher",
      "photoUrl": "",
      "userId": "04640922176656094176"
     },
     "user_tz": -60
    },
    "id": "dFhBVk6ZcJbk",
    "outputId": "8fad8c53-fb5a-4923-bfe2-466014ceda73"
   },
   "outputs": [],
   "source": [
    "!zip -r /content/output.zip /content/FacemaskDetection/output"
   ]
  }
 ],
 "metadata": {
  "accelerator": "GPU",
  "colab": {
   "collapsed_sections": [],
   "name": "Untitled1.ipynb",
   "provenance": [],
   "toc_visible": true
  },
  "kernelspec": {
   "display_name": "Python 3",
   "language": "python",
   "name": "python3"
  },
  "language_info": {
   "codemirror_mode": {
    "name": "ipython",
    "version": 3
   },
   "file_extension": ".py",
   "mimetype": "text/x-python",
   "name": "python",
   "nbconvert_exporter": "python",
   "pygments_lexer": "ipython3",
   "version": "3.9.0"
  }
 },
 "nbformat": 4,
 "nbformat_minor": 4
}
